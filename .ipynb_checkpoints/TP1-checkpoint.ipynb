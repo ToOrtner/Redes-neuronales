{
 "cells": [
  {
   "cell_type": "code",
   "execution_count": 18,
   "metadata": {},
   "outputs": [],
   "source": [
    "import numpy as np\n",
    "from matplotlib import pyplot as mpl, cm\n",
    "import itertools\n",
    "import pandas as pd"
   ]
  },
  {
   "cell_type": "code",
   "execution_count": 88,
   "metadata": {},
   "outputs": [
    {
     "name": "stdout",
     "output_type": "stream",
     "text": [
      "410\n"
     ]
    }
   ],
   "source": [
    "#Primer problema: Cancer de Mamas\n",
    "\n",
    "M = 1 #Salida :  Maligno (T) , Benigno (F)\n",
    "N = 10 #Entradas\n",
    "P = 411 #instancias\n",
    "\n",
    "entradas = np.random.normal(0, 0.5 , (P,N+1))\n",
    "tags = np.zeros((P,1))\n",
    "\n",
    "\n",
    "dataPath = 'tp1_ej1_training.csv'\n",
    "dataViewer = pd.read_csv(dataPath, names =['Z','a','b','c','d','e','f','g','h','i','j'])\n",
    "\n",
    "\n",
    "with open(dataPath) as csvfile:\n",
    "    dataCSV = csv.reader(csvfile, delimiter=',')\n",
    "    i=0\n",
    "    for row in dataCSV:\n",
    "        j=0\n",
    "        if row[0] == 'M':\n",
    "            tags[i][0] = 1\n",
    "        else:\n",
    "            tags[i][0] = 0\n",
    "        \n",
    "    \n",
    "        for col in range(1,len(row)):\n",
    "            entradas[i][j] = row[col]\n",
    "            j+=1\n",
    "        i+=1\n",
    "    print(i)"
   ]
  }
 ],
 "metadata": {
  "kernelspec": {
   "display_name": "Python 3",
   "language": "python",
   "name": "python3"
  },
  "language_info": {
   "codemirror_mode": {
    "name": "ipython",
    "version": 3
   },
   "file_extension": ".py",
   "mimetype": "text/x-python",
   "name": "python",
   "nbconvert_exporter": "python",
   "pygments_lexer": "ipython3",
   "version": "3.7.4"
  }
 },
 "nbformat": 4,
 "nbformat_minor": 2
}
