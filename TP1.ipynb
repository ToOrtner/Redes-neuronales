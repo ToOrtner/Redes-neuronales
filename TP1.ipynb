{
 "cells": [
  {
   "cell_type": "code",
   "execution_count": 2,
   "metadata": {},
   "outputs": [],
   "source": [
    "import numpy as np\n",
    "from matplotlib import pyplot as mpl, cm\n",
    "import itertools\n",
    "import pandas as pd\n",
    "import csv"
   ]
  },
  {
   "cell_type": "code",
   "execution_count": 3,
   "metadata": {},
   "outputs": [],
   "source": [
    "#Primer problema: Cancer de Mamas\n",
    "\n",
    "M = 1 #Salida :  Maligno (T) , Benigno (F)\n",
    "N = 10 #Entradas\n",
    "P = 411 #instancias\n",
    "p_train = 325\n",
    "p_check = P - p_train\n",
    "\n",
    "#los usamos para entrenar\n",
    "entradas_train = np.random.normal(0, 0.5 , (p_train,N+1))\n",
    "tags_train = np.zeros((p_train,1))\n",
    "\n",
    "#se usan despues para verificar\n",
    "entradas_check  = np.random.normal(0, 0.5 , (p_check,N+1))\n",
    "tags_check = np.zeros((p_check,1))\n",
    "\n",
    "dataPath = 'tp1_ej1_training.csv'\n",
    "dataViewer = pd.read_csv(dataPath, names =['Z','a','b','c','d','e','f','g','h','i','j'])\n",
    "\n",
    "\n",
    "with open(dataPath) as csvfile:\n",
    "    dataCSV = csv.reader(csvfile, delimiter=',')\n",
    "    i=0\n",
    "    k=0\n",
    "    for row in dataCSV:\n",
    "        if i < p_train:\n",
    "            \n",
    "            if row[0] == 'M':\n",
    "                tags_train[i][0] = 1\n",
    "            else:\n",
    "                tags_train[i][0] = 0\n",
    "\n",
    "            j=0\n",
    "            for col in range(1,len(row)):\n",
    "                entradas_train[i][j] = row[col]\n",
    "                j+=1\n",
    "            i +=1\n",
    "        else: \n",
    "            if row[0] == 'M':\n",
    "                tags_check[k][0] = 1\n",
    "            else:\n",
    "                tags_check[k][0] = 0\n",
    "\n",
    "            j=0\n",
    "            for col in range(1,len(row)):\n",
    "                entradas_check[k][j] = row[col]\n",
    "                j+=1\n",
    "            k+=1    \n",
    "        \n",
    "    "
   ]
  },
  {
   "cell_type": "code",
   "execution_count": 9,
   "metadata": {},
   "outputs": [
    {
     "data": {
      "text/plain": [
       "(86, 11)"
      ]
     },
     "execution_count": 9,
     "metadata": {},
     "output_type": "execute_result"
    }
   ],
   "source": [
    "entradas_check.shape"
   ]
  },
  {
   "cell_type": "code",
   "execution_count": 12,
   "metadata": {},
   "outputs": [],
   "source": [
    "#Clase capa de la red\n",
    "# Es una base, podemos agregarle otros parametros por ahi\n",
    "class layer():\n",
    "    def __init__(self, cant_conex, cant_neur, f_activ):\n",
    "        self.f_activ = f_activ\n",
    "        self.bias = np.random.rand(1, cant_neur) *2 -1\n",
    "        self.w = np.random.rand(cant_conex, cant_neur) *2 -1"
   ]
  },
  {
   "cell_type": "code",
   "execution_count": 13,
   "metadata": {},
   "outputs": [],
   "source": [
    "#funciones de ACtivacion (Justo, vos las tenias piolas)"
   ]
  },
  {
   "cell_type": "code",
   "execution_count": null,
   "metadata": {},
   "outputs": [],
   "source": []
  }
 ],
 "metadata": {
  "kernelspec": {
   "display_name": "Python 3",
   "language": "python",
   "name": "python3"
  },
  "language_info": {
   "codemirror_mode": {
    "name": "ipython",
    "version": 3
   },
   "file_extension": ".py",
   "mimetype": "text/x-python",
   "name": "python",
   "nbconvert_exporter": "python",
   "pygments_lexer": "ipython3",
   "version": "3.7.6"
  }
 },
 "nbformat": 4,
 "nbformat_minor": 2
}
